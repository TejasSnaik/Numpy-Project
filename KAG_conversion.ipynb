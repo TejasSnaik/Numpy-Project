{
  "nbformat": 4,
  "nbformat_minor": 0,
  "metadata": {
    "colab": {
      "name": "KAG_conversion.ipynb",
      "provenance": []
    },
    "kernelspec": {
      "name": "python3",
      "display_name": "Python 3"
    },
    "language_info": {
      "name": "python"
    }
  },
  "cells": [
    {
      "cell_type": "markdown",
      "source": [
        "Load the data"
      ],
      "metadata": {
        "id": "CIkuC7rskhQX"
      }
    },
    {
      "cell_type": "code",
      "source": [
        "data = \"KAG_Conversion_Data.csv\""
      ],
      "metadata": {
        "id": "ABUNuTp0o5eb"
      },
      "execution_count": 16,
      "outputs": []
    },
    {
      "cell_type": "code",
      "source": [
        "import numpy as np\n",
        "data_np = np.genfromtxt(data, delimiter=\",\", skip_header=1,dtype=str)\n",
        "data1_np = np.genfromtxt(data, delimiter=\",\", skip_header=1,dtype=float)"
      ],
      "metadata": {
        "id": "soRgHxZqo_gX"
      },
      "execution_count": 17,
      "outputs": []
    },
    {
      "cell_type": "code",
      "source": [
        "data_np"
      ],
      "metadata": {
        "id": "voZYXlcApAlw",
        "colab": {
          "base_uri": "https://localhost:8080/"
        },
        "outputId": "c9e84906-2bf1-4d64-fb69-95e555cf14cc"
      },
      "execution_count": 18,
      "outputs": [
        {
          "output_type": "execute_result",
          "data": {
            "text/plain": [
              "array([['708746', '916', '103916', ..., '1.429999948', '2', '1'],\n",
              "       ['708749', '916', '103917', ..., '1.820000023', '2', '0'],\n",
              "       ['708771', '916', '103920', ..., '0', '1', '0'],\n",
              "       ...,\n",
              "       ['1314412', '1178', '179979', ..., '40.28999949', '2', '0'],\n",
              "       ['1314414', '1178', '179981', ..., '198.7100005', '8', '2'],\n",
              "       ['1314415', '1178', '179982', ..., '165.6099987', '5', '2']],\n",
              "      dtype='<U11')"
            ]
          },
          "metadata": {},
          "execution_count": 18
        }
      ]
    },
    {
      "cell_type": "markdown",
      "source": [
        "How many unique ad campaigns (xyzcampaignid) does this data contain ? And for how many times was each campaign run ?"
      ],
      "metadata": {
        "id": "JTkICXoojtVW"
      }
    },
    {
      "cell_type": "code",
      "source": [
        "campaign_id =data_np[:, 1]\n",
        "print(\"No of Unique ad campaigns: \",len(np.unique(campaign_id)))\n"
      ],
      "metadata": {
        "colab": {
          "base_uri": "https://localhost:8080/"
        },
        "id": "K1YupLU60Dqs",
        "outputId": "ebddf689-82c4-4554-9d05-7f563a213e98"
      },
      "execution_count": 19,
      "outputs": [
        {
          "output_type": "stream",
          "name": "stdout",
          "text": [
            "No of Unique ad campaigns:  3\n"
          ]
        }
      ]
    },
    {
      "cell_type": "markdown",
      "source": [
        "What are the age groups that were targeted through these ad campaigns?"
      ],
      "metadata": {
        "id": "cE7Lo-WfUrra"
      }
    },
    {
      "cell_type": "code",
      "source": [
        "age_arr = data_np[:, 3]\n",
        "print(np.unique(age_arr))"
      ],
      "metadata": {
        "colab": {
          "base_uri": "https://localhost:8080/"
        },
        "id": "eR06C9CKHxhq",
        "outputId": "d1559505-494f-45c5-cd3f-1116c40f9b24"
      },
      "execution_count": 20,
      "outputs": [
        {
          "output_type": "stream",
          "name": "stdout",
          "text": [
            "['30-34' '35-39' '40-44' '45-49']\n"
          ]
        }
      ]
    },
    {
      "cell_type": "markdown",
      "source": [
        "What was the average, minimum and maximum amount spent on the ads?"
      ],
      "metadata": {
        "id": "zSsPrwxXU1b9"
      }
    },
    {
      "cell_type": "code",
      "source": [
        "amt_spent = data1_np[:, 8]\n",
        "print(\"Average amount spent on Ads: \", np.mean(amt_spent))\n",
        "print(\"Minimum amount spent on Ads: \", np.min(amt_spent))\n",
        "print(\"maximum amount spent on Ads: \", np.max(amt_spent))"
      ],
      "metadata": {
        "colab": {
          "base_uri": "https://localhost:8080/"
        },
        "id": "6AKnw8HPI4ph",
        "outputId": "361fdc71-bb62-43d5-82a6-c6952054f305"
      },
      "execution_count": 21,
      "outputs": [
        {
          "output_type": "stream",
          "name": "stdout",
          "text": [
            "Average amount spent on Ads:  51.36065613141295\n",
            "Minimum amount spent on Ads:  0.0\n",
            "maximum amount spent on Ads:  639.9499981\n"
          ]
        }
      ]
    },
    {
      "cell_type": "markdown",
      "source": [
        "What is the id of the ad having the maximum number of clicks ?"
      ],
      "metadata": {
        "id": "H8T-fWkYU568"
      }
    },
    {
      "cell_type": "code",
      "source": [
        "# Id of the particular ad having max clicks\n",
        "\n",
        "clicks_ar = data1_np[:, 7]\n",
        "id_ads = data_np[:, 0]\n",
        "\n",
        "m = np.max(clicks_ar)\n",
        "idx = list(clicks_ar).index(m) #index number of maximum clicks\n",
        "print(clicks_ar[idx]) #verifying the max value using the index no\n",
        "print(\"Ad Id having max number of clicks: \", id_ads[idx]) #printing out the ad id of having max clicks\n"
      ],
      "metadata": {
        "colab": {
          "base_uri": "https://localhost:8080/"
        },
        "id": "M1Fh5WhrKtx3",
        "outputId": "28e01458-a152-45e2-83b2-0ebc20b2952e"
      },
      "execution_count": 22,
      "outputs": [
        {
          "output_type": "stream",
          "name": "stdout",
          "text": [
            "421.0\n",
            "Ad Id having max number of clicks:  1121814\n"
          ]
        }
      ]
    },
    {
      "cell_type": "markdown",
      "source": [
        "How many people bought the product after seeing the ad with most clicks? Is that the maximum number of purchases in this dataset?\n",
        "\n"
      ],
      "metadata": {
        "id": "SaYS9E_dYFiT"
      }
    },
    {
      "cell_type": "code",
      "source": [
        "\n",
        "app_cns = data1_np[:, 10]\n",
        "print(\"Number of people who purchased the product after seeing the add with max clicks: \", app_cns[idx])\n",
        "print(\"Maximum number of purchases in this dataset: \", np.max(app_cns))"
      ],
      "metadata": {
        "colab": {
          "base_uri": "https://localhost:8080/"
        },
        "id": "pbLrH8_9NwBc",
        "outputId": "debf8236-55ba-47bb-9327-5218bdff1223"
      },
      "execution_count": 23,
      "outputs": [
        {
          "output_type": "stream",
          "name": "stdout",
          "text": [
            "Number of people who purchased the product after seeing the add with max clicks:  13.0\n",
            "Maximum number of purchases in this dataset:  21.0\n"
          ]
        }
      ]
    },
    {
      "cell_type": "markdown",
      "source": [
        "Find the details of the product having maximum number of purchases"
      ],
      "metadata": {
        "id": "pi3W0b2bZnqH"
      }
    },
    {
      "cell_type": "code",
      "source": [
        "m_pur = np.max(app_cns)\n",
        "idx_pur = list(app_cns).index(m_pur) #index no of the max purchase\n",
        "r = data1_np[idx_pur]\n",
        "r_str = data_np[idx_pur]\n",
        "print(\"Details of the products having maximum purchases\")\n",
        "print(\"unique ID for the ad: \", r[0])\n",
        "print(\"Ad campaign ID: \", r[1])\n",
        "print(\"Facebook Campaign Id: \", r[2])\n",
        "print(\"Age range of the person to whom the ad is shown: \", r_str[3])\n",
        "print(\"Gender of the person to whom the add is shown: \", r_str[4])\n",
        "print(\"A code specifying the category to which the person’s interest belongs: \", r[5])\n",
        "print(\"The number of times the ad was shown: \", r[6])\n",
        "print(\"Number of clicks on for that ad: \", r[7])\n",
        "print(\"Amount paid by the company to Facebook, to show that ad: \", r[8])\n",
        "print(\"Total number of people who enquired about the product after seeing the ad: \", r[9])\n",
        "print(\"Total number of people who bought the product after seeing the ad\", r[10])"
      ],
      "metadata": {
        "colab": {
          "base_uri": "https://localhost:8080/"
        },
        "id": "owDY8ajNRKKi",
        "outputId": "727bf2f6-5d4e-4c14-c0b4-198db268c330"
      },
      "execution_count": 24,
      "outputs": [
        {
          "output_type": "stream",
          "name": "stdout",
          "text": [
            "Details of the products having maximum purchases\n",
            "unique ID for the ad:  1121104.0\n",
            "Ad campaign ID:  1178.0\n",
            "Facebook Campaign Id:  144533.0\n",
            "Age range of the person to whom the ad is shown:  30-34\n",
            "Gender of the person to whom the add is shown:  M\n",
            "A code specifying the category to which the person’s interest belongs:  16.0\n",
            "The number of times the ad was shown:  2080666.0\n",
            "Number of clicks on for that ad:  202.0\n",
            "Amount paid by the company to Facebook, to show that ad:  360.1500015\n",
            "Total number of people who enquired about the product after seeing the ad:  40.0\n",
            "Total number of people who bought the product after seeing the ad 21.0\n"
          ]
        }
      ]
    }
  ]
}